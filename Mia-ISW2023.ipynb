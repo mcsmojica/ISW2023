{
 "cells": [
  {
   "cell_type": "code",
   "execution_count": null,
   "id": "7f30e65e",
   "metadata": {},
   "outputs": [],
   "source": [
    "# import the necessary libraries \n",
    "from PIL import Image \n",
    "from numpy import asarray \n",
    "import numpy as np\n",
    "from PIL import Image\n",
    "from matplotlib import pyplot as plt"
   ]
  },
  {
   "cell_type": "code",
   "execution_count": null,
   "id": "f1afc0ee",
   "metadata": {},
   "outputs": [],
   "source": [
    "# load a grayscale image and convert into a numpy array\n",
    "img1 = Image.open('images/cameraman.png') \n",
    "img1 = asarray(img1) \n",
    "\n",
    "# display the image and some image properties\n",
    "plt.imshow(img1,cmap='gray')\n",
    "print(\"Size of Image:\")\n",
    "display(img1.shape)"
   ]
  },
  {
   "cell_type": "code",
   "execution_count": null,
   "id": "4f4cc869",
   "metadata": {},
   "outputs": [],
   "source": [
    "# display first 10x10 elements\n",
    "display(img1[:9,:9])"
   ]
  },
  {
   "cell_type": "code",
   "execution_count": null,
   "id": "6e269369",
   "metadata": {},
   "outputs": [],
   "source": [
    "# load an RGB image and convert into a numpy array\n",
    "img2 = Image.open('images/heart_fibers.jpg') \n",
    "img2 = asarray(img2) \n",
    "\n",
    "# display the image\n",
    "plt.imshow(img2)\n",
    "# display the dimensions of the image\n",
    "print(\"Size of Image:\")\n",
    "display(img2.shape)"
   ]
  },
  {
   "cell_type": "code",
   "execution_count": null,
   "id": "d221510b",
   "metadata": {
    "scrolled": true
   },
   "outputs": [],
   "source": [
    "# create a simple 7x7 where all the pixels are black, and call it 'I'\n",
    "I = np.zeros((7,7))\n",
    "display(I)\n",
    "plt.imshow(I,cmap='gray')"
   ]
  },
  {
   "cell_type": "code",
   "execution_count": null,
   "id": "ce830623",
   "metadata": {},
   "outputs": [],
   "source": [
    "# make the first pixel a white pixel -- replace the 0 with a 255\n",
    "I[0,0] = 255\n",
    "\n",
    "# change the center pixel to a shade of gray\n",
    "I[3,3] = 100\n",
    "\n",
    "# display the image\n",
    "plt.imshow(I,cmap='gray')"
   ]
  },
  {
   "cell_type": "code",
   "execution_count": null,
   "id": "81ed2b12",
   "metadata": {},
   "outputs": [],
   "source": [
    "# create your own digital image!\n",
    "# 1) start with the dimensions of the image that you would like to create. \n",
    "# 2) then choose the background color (0 for black, 255 for white, and values in between 0 and 255 for different shades of gray).\n",
    "#         for a black bg: my_image = np.zeros((7,7))\n",
    "#         for a white bg: my_image = 255*np.ones((7,7))\n",
    "# 3) replace some entries of the array, e.g., to change the value of the entry on the intersection of the \n",
    "#    4th row and 6th column to 100:\n",
    "#         my_image[3,5] = 100"
   ]
  },
  {
   "cell_type": "code",
   "execution_count": null,
   "id": "e111f8c1",
   "metadata": {},
   "outputs": [],
   "source": []
  }
 ],
 "metadata": {
  "kernelspec": {
   "display_name": "Python 3 (ipykernel)",
   "language": "python",
   "name": "python3"
  },
  "language_info": {
   "codemirror_mode": {
    "name": "ipython",
    "version": 3
   },
   "file_extension": ".py",
   "mimetype": "text/x-python",
   "name": "python",
   "nbconvert_exporter": "python",
   "pygments_lexer": "ipython3",
   "version": "3.10.9"
  }
 },
 "nbformat": 4,
 "nbformat_minor": 5
}
